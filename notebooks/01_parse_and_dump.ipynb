import os
import sys

from hdlConvertor.language import Language
from hdlConvertor.to.verilog.verilog2005 import ToVerilog2005
from hdlConvertor import HdlConvertor

TEST_DIR = os.path.join(os.path.dirname(__file__), "..", "tests", "verilog")

filenames = [os.path.join(TEST_DIR, "dff_async_reset.v"), ]
include_dirs = []
c = HdlConvertor()
d = c.parse(filenames, Language.VERILOG, include_dirs, hierarchyOnly=False, debug=True)

tv = ToVerilog2005(sys.stdout)
tv.print_HdlContext(d)

for o in d.objs:
    print(o)
